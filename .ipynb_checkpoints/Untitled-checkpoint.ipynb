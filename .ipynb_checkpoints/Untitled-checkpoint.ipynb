{
 "cells": [
  {
   "cell_type": "code",
   "execution_count": null,
   "metadata": {},
   "outputs": [
    {
     "name": "stdout",
     "output_type": "stream",
     "text": [
      " * Serving Flask app \"__main__\" (lazy loading)\n",
      " * Environment: production\n",
      "   WARNING: This is a development server. Do not use it in a production deployment.\n",
      "   Use a production WSGI server instead.\n",
      " * Debug mode: off\n"
     ]
    },
    {
     "name": "stderr",
     "output_type": "stream",
     "text": [
      " * Running on http://127.0.0.1:5000/ (Press CTRL+C to quit)\n",
      "127.0.0.1 - - [07/Mar/2020 15:08:06] \"\u001b[37mGET / HTTP/1.1\u001b[0m\" 200 -\n",
      "127.0.0.1 - - [07/Mar/2020 15:08:06] \"\u001b[33mGET /css/animate.css HTTP/1.1\u001b[0m\" 404 -\n",
      "127.0.0.1 - - [07/Mar/2020 15:08:06] \"\u001b[33mGET /css/icomoon.css HTTP/1.1\u001b[0m\" 404 -\n",
      "127.0.0.1 - - [07/Mar/2020 15:08:06] \"\u001b[33mGET /css/bootstrap.css HTTP/1.1\u001b[0m\" 404 -\n",
      "127.0.0.1 - - [07/Mar/2020 15:08:06] \"\u001b[33mGET /js/modernizr-2.6.2.min.js HTTP/1.1\u001b[0m\" 404 -\n",
      "127.0.0.1 - - [07/Mar/2020 15:08:06] \"\u001b[33mGET /css/flexslider.css HTTP/1.1\u001b[0m\" 404 -\n",
      "127.0.0.1 - - [07/Mar/2020 15:08:06] \"\u001b[33mGET /css/style.css HTTP/1.1\u001b[0m\" 404 -\n",
      "127.0.0.1 - - [07/Mar/2020 15:08:06] \"\u001b[33mGET /images/profile.jpg HTTP/1.1\u001b[0m\" 404 -\n",
      "127.0.0.1 - - [07/Mar/2020 15:08:06] \"\u001b[33mGET /js/jquery.min.js HTTP/1.1\u001b[0m\" 404 -\n",
      "127.0.0.1 - - [07/Mar/2020 15:08:06] \"\u001b[33mGET /js/jquery.easing.1.3.js HTTP/1.1\u001b[0m\" 404 -\n",
      "127.0.0.1 - - [07/Mar/2020 15:08:07] \"\u001b[33mGET /js/bootstrap.min.js HTTP/1.1\u001b[0m\" 404 -\n",
      "127.0.0.1 - - [07/Mar/2020 15:08:07] \"\u001b[33mGET /js/jquery.flexslider-min.js HTTP/1.1\u001b[0m\" 404 -\n",
      "127.0.0.1 - - [07/Mar/2020 15:08:07] \"\u001b[33mGET /js/jquery.waypoints.min.js HTTP/1.1\u001b[0m\" 404 -\n",
      "127.0.0.1 - - [07/Mar/2020 15:08:07] \"\u001b[33mGET /js/main.js HTTP/1.1\u001b[0m\" 404 -\n",
      "127.0.0.1 - - [07/Mar/2020 15:08:07] \"\u001b[33mGET /js/jquery.flexslider-min.js HTTP/1.1\u001b[0m\" 404 -\n",
      "127.0.0.1 - - [07/Mar/2020 15:08:07] \"\u001b[33mGET /js/main.js HTTP/1.1\u001b[0m\" 404 -\n",
      "127.0.0.1 - - [07/Mar/2020 15:08:07] \"\u001b[33mGET /favicon.ico HTTP/1.1\u001b[0m\" 404 -\n"
     ]
    }
   ],
   "source": [
    "from flask import Flask, render_template,request\n",
    "\n",
    "app = Flask(__name__)\n",
    "import test_crawling\n",
    "\n",
    "\n",
    "@app.route(\"/\")\n",
    "def hello_flask():\n",
    "    \n",
    "    test = test_crawling.test()\n",
    "    return render_template('about.html', test = test)\n",
    "\n",
    "# @app.route(\"/result\",methods=['POST'])\n",
    "# def result():\n",
    "\n",
    "#     blah = blahblah.test()\n",
    "#     return render_template('result.html')\n",
    "\n",
    "if __name__ == \"__main__\":\n",
    "    app.run()\n"
   ]
  },
  {
   "cell_type": "code",
   "execution_count": null,
   "metadata": {},
   "outputs": [],
   "source": []
  }
 ],
 "metadata": {
  "kernelspec": {
   "display_name": "Python 3",
   "language": "python",
   "name": "python3"
  },
  "language_info": {
   "codemirror_mode": {
    "name": "ipython",
    "version": 3
   },
   "file_extension": ".py",
   "mimetype": "text/x-python",
   "name": "python",
   "nbconvert_exporter": "python",
   "pygments_lexer": "ipython3",
   "version": "3.7.3"
  }
 },
 "nbformat": 4,
 "nbformat_minor": 2
}
